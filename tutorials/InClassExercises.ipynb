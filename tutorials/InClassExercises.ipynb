{
  "nbformat": 4,
  "nbformat_minor": 0,
  "metadata": {
    "colab": {
      "provenance": []
    },
    "kernelspec": {
      "name": "python3",
      "display_name": "Python 3"
    },
    "language_info": {
      "name": "python"
    }
  },
  "cells": [
    {
      "cell_type": "code",
      "execution_count": null,
      "metadata": {
        "id": "a2W-cfmimZDJ",
        "colab": {
          "base_uri": "https://localhost:8080/"
        },
        "outputId": "b82015d6-ddf3-4d5a-ae24-7fff7769e98d"
      },
      "outputs": [
        {
          "output_type": "stream",
          "name": "stdout",
          "text": [
            "Protein sequence: aaaaaaaaaaaaaaaaaaaaaaddddddddddddffffffffffffffffrrrrrrrrrrrrrrttttttttttttttttt\n",
            "DDDDFFFFFFFFFFF\n"
          ]
        }
      ],
      "source": [
        "'''\n",
        "Author : Vardini K\n",
        "Date : 14 Aug 2023\n",
        "Time: 11:23 AM\n",
        "Program to search for the Protein Degeneracy Zone\n",
        "'''\n",
        "prot_seq = input('Protein sequence: ').upper()\n",
        "prot_deg = {'A':4, 'C':2, 'D':2, 'E':2, 'F':2, 'G':4, 'H':2, 'I':3, 'K':2, 'L':6, 'M':1, 'N':2, 'P':4, 'Q':2, 'R':6, 'S':6, 'T':4, 'V':4, 'W':1, 'Y':2}\n",
        "segs_values = []\n",
        "segs_seqs = []\n",
        "segment = prot_seq[:15]\n",
        "a = 0\n",
        "while len(segment)==15:\n",
        "  degen = 0\n",
        "  for x in segment:\n",
        "    degen += prot_deg.get(x, 3.05)\n",
        "    segs_values.append(degen)\n",
        "    segs_seqs.append(segment)\n",
        "    a += 1\n",
        "    segment = prot_seq[a:a+15]\n",
        "print(segs_seqs[segs_values.index(min(segs_values))])\n"
      ]
    }
  ]
}