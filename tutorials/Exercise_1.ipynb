{
  "nbformat": 4,
  "nbformat_minor": 0,
  "metadata": {
    "colab": {
      "provenance": []
    },
    "kernelspec": {
      "name": "python3",
      "display_name": "Python 3"
    },
    "language_info": {
      "name": "python"
    }
  },
  "cells": [
    {
      "cell_type": "markdown",
      "source": [],
      "metadata": {
        "id": "iaGF00zCQfA3"
      }
    },
    {
      "cell_type": "markdown",
      "source": [
        "## *In Class Exercise: Done on 08 Aug 2023, Code writing using strings, lists, and dictionaries*"
      ],
      "metadata": {
        "id": "3qoY84J9J3MZ"
      }
    },
    {
      "cell_type": "code",
      "execution_count": null,
      "metadata": {
        "colab": {
          "base_uri": "https://localhost:8080/"
        },
        "id": "qxC6PEg1FY5P",
        "outputId": "e895a88c-798b-4fec-c399-8b4ecb431812"
      },
      "outputs": [
        {
          "output_type": "stream",
          "name": "stdout",
          "text": [
            "['apple', 'apple', 'apple', 'apple', 'apple']\n"
          ]
        }
      ],
      "source": [
        "'''\n",
        "Author: Vardhini K\n",
        "Date  : 08 Aug 2023\n",
        "Time  : 01:10 PM\n",
        "'''\n",
        "#Create a list that contains the word apple five times.\n",
        "apple_list = ['apple'] * 5\n",
        "print(apple_list)"
      ]
    },
    {
      "cell_type": "code",
      "source": [
        "#Create a dictionary, by a taking of your friends names, where keys are the names and values are the length of their names.\n",
        "friends_list = [['varshiny', len('varshiny')],[ 'janani', len('janani')], ['bala', len('bala')], ['atchaya', len('atchaya')], ['swetha', len('swetha')]]\n",
        "friends_dict = dict(friends_list)\n",
        "print(friends_dict)"
      ],
      "metadata": {
        "colab": {
          "base_uri": "https://localhost:8080/"
        },
        "id": "bRiAbfdvH2qZ",
        "outputId": "b97146c0-8ae7-4ef2-8038-8cf0355c8061"
      },
      "execution_count": null,
      "outputs": [
        {
          "output_type": "stream",
          "name": "stdout",
          "text": [
            "{'varshiny': 8, 'janani': 6, 'bala': 4, 'atchaya': 7, 'swetha': 6}\n"
          ]
        }
      ]
    },
    {
      "cell_type": "code",
      "source": [
        "#Given a string of comma separated words, convert it to list of words.\n",
        "animals = 'cat, dog, pig, cow, goat, sheep, lion, tiger'\n",
        "animals_list = animals.split(',')\n",
        "print(animals_list)"
      ],
      "metadata": {
        "colab": {
          "base_uri": "https://localhost:8080/"
        },
        "id": "AN7nMGysI3Wf",
        "outputId": "af674660-d353-4250-80a1-6dbb3d5529c9"
      },
      "execution_count": null,
      "outputs": [
        {
          "output_type": "stream",
          "name": "stdout",
          "text": [
            "['cat', ' dog', ' pig', ' cow', ' goat', ' sheep', ' lion', ' tiger']\n"
          ]
        }
      ]
    },
    {
      "cell_type": "code",
      "source": [
        "#Given a string, print its length, print it in reverse order, and convert it to upper case.\n",
        "dna_seq = 'agcttacgacctag'\n",
        "print(len(dna_seq))\n",
        "print(dna_seq[::-1])\n",
        "print(dna_seq.upper())"
      ],
      "metadata": {
        "colab": {
          "base_uri": "https://localhost:8080/"
        },
        "id": "7KWBpmpzKrI4",
        "outputId": "93d18e35-f24b-4939-e07b-1c787af664eb"
      },
      "execution_count": null,
      "outputs": [
        {
          "output_type": "stream",
          "name": "stdout",
          "text": [
            "14\n",
            "gatccagcattcga\n",
            "AGCTTACGACCTAG\n"
          ]
        }
      ]
    },
    {
      "cell_type": "code",
      "source": [
        "#Create a list of your lunch menu today, print the last item from the list, add dessert to menu and print,\n",
        "#remove third item and add print, print the index of the specified food item.\n",
        "lunch_menu = ['Chappati', 'Aloo Masala', 'Rice', 'Rasam', 'Buttermilk', 'Chips']\n",
        "print(lunch_menu[-1])\n",
        "\n",
        "lunch_menu.append('Carrot Halwa')\n",
        "print(lunch_menu)\n",
        "\n",
        "lunch_menu.pop(2)\n",
        "print(lunch_menu)\n",
        "\n",
        "food_item = input('Enter a food item from menu: ')\n",
        "i = 0\n",
        "while i < len(lunch_menu):\n",
        "  if food_item == lunch_menu[i]:\n",
        "    print(i)\n",
        "    break\n",
        "  else:\n",
        "    i+=1"
      ],
      "metadata": {
        "colab": {
          "base_uri": "https://localhost:8080/"
        },
        "id": "w4DK_YDZLDeF",
        "outputId": "348127d3-8dbb-4878-bbb5-af1363c606df"
      },
      "execution_count": null,
      "outputs": [
        {
          "output_type": "stream",
          "name": "stdout",
          "text": [
            "Chips\n",
            "['Chappati', 'Aloo Masala', 'Rice', 'Rasam', 'Buttermilk', 'Chips', 'Carrot Halwa']\n",
            "['Chappati', 'Aloo Masala', 'Rasam', 'Buttermilk', 'Chips', 'Carrot Halwa']\n",
            "Enter a food item from menu: Carrot Halwa\n",
            "5\n"
          ]
        }
      ]
    }
  ]
}