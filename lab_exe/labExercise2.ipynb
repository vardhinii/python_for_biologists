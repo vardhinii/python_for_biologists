{
  "nbformat": 4,
  "nbformat_minor": 0,
  "metadata": {
    "colab": {
      "provenance": []
    },
    "kernelspec": {
      "name": "python3",
      "display_name": "Python 3"
    },
    "language_info": {
      "name": "python"
    }
  },
  "cells": [
    {
      "cell_type": "markdown",
      "source": [
        "## *Lab 2 - Enumerating the Power set of a list data structure*\n",
        "*In this exercise, you will learn how to develop the power set for a list.*"
      ],
      "metadata": {
        "id": "vnleaa1Nt088"
      }
    },
    {
      "cell_type": "code",
      "execution_count": null,
      "metadata": {
        "colab": {
          "base_uri": "https://localhost:8080/"
        },
        "id": "Ksj-tW8FtCbG",
        "outputId": "1c6c13a9-6eb0-465a-fe39-2b7dcb7a865e"
      },
      "outputs": [
        {
          "output_type": "stream",
          "name": "stdout",
          "text": [
            "[[], [1], [2], [1, 2], [3], [1, 3], [2, 3], [1, 2, 3]]\n"
          ]
        }
      ],
      "source": [
        "'''\n",
        "Author: Vardhini K\n",
        "Date: 09 Aug 2023\n",
        "Time: 8:56 AM\n",
        "This code takes a list and generates a power set using for loop\n",
        "'''\n",
        "#Declaring a list and length of the list\n",
        "numbers_list = [1,2,3]\n",
        "n = len(numbers_list)\n",
        "\n",
        "#Declaring an empty list for power set, with empty set\n",
        "powerset =[[]]\n",
        "\n",
        "#Loop to get the power set\n",
        "for i in range(n):\n",
        "    new_subset = [subset + [numbers_list[i]] for subset in powerset]\n",
        "    powerset += new_subset\n",
        "\n",
        "#Print the power set\n",
        "print(powerset)\n"
      ]
    }
  ]
}