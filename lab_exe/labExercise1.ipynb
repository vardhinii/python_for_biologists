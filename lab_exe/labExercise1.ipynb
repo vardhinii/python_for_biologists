{
  "nbformat": 4,
  "nbformat_minor": 0,
  "metadata": {
    "colab": {
      "provenance": []
    },
    "kernelspec": {
      "name": "python3",
      "display_name": "Python 3"
    },
    "language_info": {
      "name": "python"
    }
  },
  "cells": [
    {
      "cell_type": "markdown",
      "source": [
        "## *Lab 1 - Simple Computing : String Manipulation & Fibonacci*\n",
        "*In this exercise, simple python exercises and functions were taught and programmed.*"
      ],
      "metadata": {
        "id": "ANtXTLrVgOrX"
      }
    },
    {
      "cell_type": "markdown",
      "source": [
        "*Methods Discussed in String Manipulation:*\n",
        "*   *.lower()*\n",
        "*   *.replace()*\n",
        "*   *.count()*\n",
        "*  *.find()*\n",
        "*   *.split()*\n",
        "*   *.list()*\n",
        "*   *.join()*"
      ],
      "metadata": {
        "id": "K0GKnYbZisD1"
      }
    },
    {
      "cell_type": "code",
      "source": [
        "'''\n",
        "Author: Vardhini K\n",
        "Date  : 02 Aug 2023\n",
        "Time  : 06:00 PM\n",
        "Method: lower() : changes the char from upper to lower case\n",
        "'''\n",
        "#A DNA sequence is assigned as a string\n",
        "dna_seq = 'ATGCAGCAGTCTG'\n",
        "dna_seq_lower = dna_seq.lower()\n",
        "print(dna_seq_lower)"
      ],
      "metadata": {
        "colab": {
          "base_uri": "https://localhost:8080/"
        },
        "id": "RVrXfL_MgZ7w",
        "outputId": "ea774bb0-dd28-4cfe-d206-4270e416a49c"
      },
      "execution_count": null,
      "outputs": [
        {
          "output_type": "stream",
          "name": "stdout",
          "text": [
            "atgcagcagtctg\n"
          ]
        }
      ]
    },
    {
      "cell_type": "code",
      "source": [
        "'''\n",
        "Method: replace() : replaces a given char in the place of other char\n",
        "'''\n",
        "#RNA sequence contains U instead of T in a DNA sequence\n",
        "m_rna_seq = dna_seq.replace('T', 'U')\n",
        "print(m_rna_seq)"
      ],
      "metadata": {
        "colab": {
          "base_uri": "https://localhost:8080/"
        },
        "id": "Gp5ZxMx3jZ4q",
        "outputId": "7b468c77-70b4-4fa5-ca62-93d2bc0f26fd"
      },
      "execution_count": null,
      "outputs": [
        {
          "output_type": "stream",
          "name": "stdout",
          "text": [
            "AUGCAGCAGUCUG\n"
          ]
        }
      ]
    },
    {
      "cell_type": "code",
      "source": [
        "'''\n",
        "Method: count() : counts the no. of times a char has occured\n",
        "'''\n",
        "#Counting number of a particular base pair in a DNA sequence\n",
        "g_count = dna_seq.count('G')\n",
        "c_count = dna_seq.count('C')\n",
        "\n",
        "#Calculating GC Content\n",
        "gc_count = (g_count + c_count)/len(dna_seq)*100 #len() : length of the string\n",
        "print(gc_count)"
      ],
      "metadata": {
        "colab": {
          "base_uri": "https://localhost:8080/"
        },
        "id": "zH7hZLl8kXao",
        "outputId": "b4e10ac3-e44a-4518-f201-71347cb3937b"
      },
      "execution_count": null,
      "outputs": [
        {
          "output_type": "stream",
          "name": "stdout",
          "text": [
            "53.84615384615385\n"
          ]
        }
      ]
    },
    {
      "cell_type": "code",
      "source": [
        "'''\n",
        "Method: find() : finds the postion of sub-string within a string\n",
        "                 -1 indicates sub-string not found\n",
        "'''\n",
        "#finding the position of bp CAG in the DNA sequence\n",
        "dna_seq.find('CAG')"
      ],
      "metadata": {
        "colab": {
          "base_uri": "https://localhost:8080/"
        },
        "id": "Y2DvEln5ldh3",
        "outputId": "21fc88a8-2c73-493d-9614-105a30a3a3eb"
      },
      "execution_count": null,
      "outputs": [
        {
          "output_type": "execute_result",
          "data": {
            "text/plain": [
              "3"
            ]
          },
          "metadata": {},
          "execution_count": 9
        }
      ]
    },
    {
      "cell_type": "code",
      "source": [
        "'''\n",
        "Method: split() : splits the string into parts by a symbol\n",
        "'''\n",
        "#split fuction, reproduces a list\n",
        "'The basic unit of DNA is a nucleotide'.split()\n"
      ],
      "metadata": {
        "colab": {
          "base_uri": "https://localhost:8080/"
        },
        "id": "tXzteBtVuIEV",
        "outputId": "0c472715-ae88-41e0-e44c-37b049aa6a99"
      },
      "execution_count": null,
      "outputs": [
        {
          "output_type": "execute_result",
          "data": {
            "text/plain": [
              "['The', 'basic', 'unit', 'of', 'DNA', 'is', 'a', 'nucleotide']"
            ]
          },
          "metadata": {},
          "execution_count": 10
        }
      ]
    },
    {
      "cell_type": "code",
      "source": [
        "'''\n",
        "Method: list() : converts a string to list\n",
        "'''\n",
        "#Creating a list of individual bps in a DNA sequence\n",
        "list_seq = list(dna_seq)\n",
        "print(list_seq)"
      ],
      "metadata": {
        "colab": {
          "base_uri": "https://localhost:8080/"
        },
        "id": "rFJBb-ITvq2r",
        "outputId": "a383cc39-7a27-4d8d-a8d7-e06915b917af"
      },
      "execution_count": null,
      "outputs": [
        {
          "output_type": "stream",
          "name": "stdout",
          "text": [
            "['A', 'T', 'G', 'C', 'A', 'G', 'C', 'A', 'G', 'T', 'C', 'T', 'G']\n"
          ]
        }
      ]
    },
    {
      "cell_type": "code",
      "source": [
        "'''\n",
        "Method: join() : joins the list by a symbol\n",
        "'''\n",
        "#Joining the individual bps together\n",
        "''.join(list_seq)"
      ],
      "metadata": {
        "colab": {
          "base_uri": "https://localhost:8080/",
          "height": 36
        },
        "id": "yhtb-B6Fv7M6",
        "outputId": "e51df0f1-660d-49dc-9044-b8c27ea01457"
      },
      "execution_count": null,
      "outputs": [
        {
          "output_type": "execute_result",
          "data": {
            "text/plain": [
              "'ATGCAGCAGTCTG'"
            ],
            "application/vnd.google.colaboratory.intrinsic+json": {
              "type": "string"
            }
          },
          "metadata": {},
          "execution_count": 13
        }
      ]
    },
    {
      "cell_type": "markdown",
      "source": [
        "*Fibonacci Series : A series of numbers in which each number is the sum of the two preceding numbers.*\n",
        "\n",
        "*Exercises using fibonacci series :*\n",
        "\n",
        "*   *Fibonacci of first 4 numbers*\n",
        "*   *Fibonacci upto a given number or upto 10 values*\n",
        "*   *Fibonacci series with user input*\n"
      ],
      "metadata": {
        "id": "rOUy_WFww1H9"
      }
    },
    {
      "cell_type": "code",
      "source": [
        "'''\n",
        "Author: Vardhini K\n",
        "Date  : 02 Aug 2023\n",
        "Time  : 08:00 PM\n",
        "A Program to print the first four fibonacci numbers\n",
        "'''\n",
        "first, second = 0, 1\n",
        "first, second = second, first + second #counts 3rd number\n",
        "first, second = second, first + second #counts 4th number\n",
        "\n",
        "print('0', '1', first, second, sep=', ')"
      ],
      "metadata": {
        "colab": {
          "base_uri": "https://localhost:8080/"
        },
        "id": "W25pXhVLxQJ0",
        "outputId": "87e2c117-c9da-49f0-c3c5-4e825f9d918e"
      },
      "execution_count": null,
      "outputs": [
        {
          "output_type": "stream",
          "name": "stdout",
          "text": [
            "0, 1, 1, 2\n"
          ]
        }
      ]
    },
    {
      "cell_type": "code",
      "source": [
        "'''\n",
        "A Program to print the fibonacci series upto a given number or upto 10 values\n",
        "'''\n",
        "fib_seq = [0, 1]\n",
        "\n",
        "#Request user for a value\n",
        "user_input = int(input('Enter a number: '))\n",
        "\n",
        "#Loop until we have 10 numbers in the fibonacci series\n",
        "while len(fib_seq) < 10:\n",
        "  #Calculate the next fibonacci numbers\n",
        "  next_fib = fib_seq[-1] + fib_seq[-2]\n",
        "\n",
        "  #condition to check for user input value\n",
        "  #add next_fib to fib_seq only when it is less than or equal to user input value\n",
        "  if next_fib <= user_input:\n",
        "    fib_seq.append(next_fib)\n",
        "  else:\n",
        "    break\n",
        "\n",
        "#print the fibonacci sequence\n",
        "print('The Fibonacci sequence upto a given number or upto 10 values is :',fib_seq)"
      ],
      "metadata": {
        "colab": {
          "base_uri": "https://localhost:8080/"
        },
        "id": "rm7Tcixx0hrD",
        "outputId": "83da9288-4718-45d8-e08e-a565f2826f5c"
      },
      "execution_count": null,
      "outputs": [
        {
          "output_type": "stream",
          "name": "stdout",
          "text": [
            "Enter a number: 100\n",
            "The Fibonacci sequence upto a given number or upto 10 values is : [0, 1, 1, 2, 3, 5, 8, 13, 21, 34]\n"
          ]
        }
      ]
    },
    {
      "cell_type": "code",
      "source": [
        "'''\n",
        "A Program to print the fibonacci series by getting user values upto 10 values\n",
        "'''\n",
        "#Request user for two numbers to begin with\n",
        "first_no = int(input('Enter your first number : '))\n",
        "second_no = int(input('Enter your second number : '))\n",
        "\n",
        "#Start with first two no.s given by user\n",
        "fib_seq = [first_no, second_no]\n",
        "\n",
        "#Loop until we have 10 numbers in the fibonacci series\n",
        "while len(fib_seq) < 10 :\n",
        "  #Calculate the next fibonacci numbers\n",
        "  next_fib = fib_seq[-1] + fib_seq[-2]\n",
        "  #add no to the sequence\n",
        "  fib_seq.append(next_fib)\n",
        "\n",
        "#print the fibonacci sequence\n",
        "print('The Fibonacci sequence upto 10 values is :',fib_seq)"
      ],
      "metadata": {
        "colab": {
          "base_uri": "https://localhost:8080/"
        },
        "id": "24OO1WH33JGc",
        "outputId": "d5c49152-c12b-424b-c24a-7104b4658b06"
      },
      "execution_count": null,
      "outputs": [
        {
          "output_type": "stream",
          "name": "stdout",
          "text": [
            "Enter your first number : 1\n",
            "Enter your second number : 2\n",
            "The Fibonacci sequence upto 10 values is : [1, 2, 3, 5, 8, 13, 21, 34, 55, 89]\n"
          ]
        }
      ]
    }
  ]
}