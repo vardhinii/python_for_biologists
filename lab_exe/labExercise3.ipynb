{
  "nbformat": 4,
  "nbformat_minor": 0,
  "metadata": {
    "colab": {
      "provenance": []
    },
    "kernelspec": {
      "name": "python3",
      "display_name": "Python 3"
    },
    "language_info": {
      "name": "python"
    }
  },
  "cells": [
    {
      "cell_type": "markdown",
      "source": [
        "## ***Lab 3- Intermediate computing problems, for e.g., computing the Taylor expansion of sine, cosine, and exponentials.***\n",
        "*In this exercise, you will learn how to compute the Taylor expansion*"
      ],
      "metadata": {
        "id": "kH5Ol0musGcr"
      }
    },
    {
      "cell_type": "code",
      "execution_count": null,
      "metadata": {
        "id": "Gg8W2tevVh51",
        "colab": {
          "base_uri": "https://localhost:8080/"
        },
        "outputId": "7f3d1600-88cf-448a-dcd2-6628cc37ecf4"
      },
      "outputs": [
        {
          "output_type": "stream",
          "name": "stdout",
          "text": [
            "Enter a value for x: 1\n",
            "\n",
            "\n",
            "Sine Approximation: 0.5\n",
            "Sine Approximation: 0.4583333333333333\n",
            "Sine Approximation: 0.4597222222222222\n",
            "Sine Approximation: 0.4596974206349206\n",
            "Sine Approximation: 0.45969769620811285\n",
            "Sine Approximation: 0.45969769412043715\n",
            "Sine Approximation: 0.4596976941319079\n",
            "Sine Approximation: 0.4596976941318601\n",
            "Sine Approximation: 0.4596976941318603\n",
            "Sine Approximation: 0.4596976941318603\n"
          ]
        }
      ],
      "source": [
        "'''\n",
        "Author : Vardhini K\n",
        "Date : 16 Aug 2023\n",
        "Time : 9:40 AM\n",
        "Taylor expansion of sine, cosine and exponentials\n",
        "'''\n",
        "import math\n",
        "#Input the value of x\n",
        "x = int(input('Enter a value for x: '))\n",
        "print('\\n')\n",
        "\n",
        "#Taylor expansion of sine\n",
        "sine_approx = 0\n",
        "for n in range(10):\n",
        "  term = (((-1)**n)*(x**(2*(n+1))))/math.factorial(2*(n+1))\n",
        "  sine_approx += term\n",
        "\n",
        "  #Print the sine expansion\n",
        "print(f'Sine Approximation: {sine_approx}')"
      ]
    },
    {
      "cell_type": "code",
      "source": [
        "#Taylor expansion of cosine\n",
        "cosine_approx = 0\n",
        "for n in range(10):\n",
        "  term = ((-1)**n)*(x**(2*n))/math.factorial(2*n)\n",
        "  cosine_approx += term\n",
        "\n",
        "  #Print the expansion\n",
        "  print(f'Cosine Approximation: {cosine_approx}')"
      ],
      "metadata": {
        "colab": {
          "base_uri": "https://localhost:8080/"
        },
        "id": "YpZWBIaLo2Cp",
        "outputId": "c1295737-481f-424b-b832-a14aa6047c17"
      },
      "execution_count": null,
      "outputs": [
        {
          "output_type": "stream",
          "name": "stdout",
          "text": [
            "Cosine Approximation: 1.0\n",
            "Cosine Approximation: 0.5\n",
            "Cosine Approximation: 0.5416666666666666\n",
            "Cosine Approximation: 0.5402777777777777\n",
            "Cosine Approximation: 0.5403025793650793\n",
            "Cosine Approximation: 0.540302303791887\n",
            "Cosine Approximation: 0.5403023058795627\n",
            "Cosine Approximation: 0.540302305868092\n",
            "Cosine Approximation: 0.5403023058681398\n",
            "Cosine Approximation: 0.5403023058681397\n"
          ]
        }
      ]
    },
    {
      "cell_type": "code",
      "source": [
        "#Taylor expansion of cosine\n",
        "exp_approx = 0\n",
        "for n in range(10):\n",
        "  term = (x**(n))/math.factorial(2*n)\n",
        "  exp_approx += term\n",
        "\n",
        "  #Print the expansion\n",
        "  print(f'Exponential Approximation: {exp_approx}')"
      ],
      "metadata": {
        "colab": {
          "base_uri": "https://localhost:8080/"
        },
        "id": "3mZ2Q_GFo6mf",
        "outputId": "2b2f3788-0f67-4bf0-935c-fed86acc3570"
      },
      "execution_count": null,
      "outputs": [
        {
          "output_type": "stream",
          "name": "stdout",
          "text": [
            "Exponential Approximation: 1.0\n",
            "Exponential Approximation: 1.5\n",
            "Exponential Approximation: 1.5416666666666667\n",
            "Exponential Approximation: 1.5430555555555556\n",
            "Exponential Approximation: 1.5430803571428573\n",
            "Exponential Approximation: 1.5430806327160496\n",
            "Exponential Approximation: 1.5430806348037251\n",
            "Exponential Approximation: 1.543080634815196\n",
            "Exponential Approximation: 1.5430806348152437\n",
            "Exponential Approximation: 1.543080634815244\n"
          ]
        }
      ]
    }
  ]
}