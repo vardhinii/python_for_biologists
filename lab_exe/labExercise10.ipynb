{
  "nbformat": 4,
  "nbformat_minor": 0,
  "metadata": {
    "colab": {
      "provenance": []
    },
    "kernelspec": {
      "name": "python3",
      "display_name": "Python 3"
    },
    "language_info": {
      "name": "python"
    }
  },
  "cells": [
    {
      "cell_type": "markdown",
      "source": [
        "###***Lab 10 - Intermediate OOPS: for e.g., creating a Length object in multiple units extending to a Currency Object***\n",
        "***Aim:*** *In this exercise, you will learn how to create length and currency objects in multiple units*"
      ],
      "metadata": {
        "id": "5iKY-3C424HE"
      }
    },
    {
      "cell_type": "code",
      "execution_count": null,
      "metadata": {
        "colab": {
          "base_uri": "https://localhost:8080/"
        },
        "id": "YseYtdn52sCT",
        "outputId": "dcaa6984-58b3-41ee-aad5-0016b0f3e401"
      },
      "outputs": [
        {
          "output_type": "stream",
          "name": "stdout",
          "text": [
            "5 km\n",
            "Length in m: 5000\n",
            "\n",
            "50 USD\n",
            "50 USD in EUR: 45.5\n"
          ]
        }
      ],
      "source": [
        "'''\n",
        "Author: Vardhini K\n",
        "Date: 25 Oct 2023\n",
        "Time: 9:00 AM\n",
        "This code creates length and currency objects in multiple units\n",
        "'''\n",
        "class Length:\n",
        "  def __init__(self, value, unit='m'):\n",
        "    self.value = value\n",
        "    self.unit = unit\n",
        "\n",
        "  def convert_to(self, new_unit):\n",
        "    if self.unit=='m' and new_unit=='km':\n",
        "      return self.value/1000\n",
        "    elif self.unit=='km' and new_unit=='m':\n",
        "      return self.value*1000\n",
        "    else:\n",
        "      raise ValueError('Invalid Unit conversion')\n",
        "\n",
        "  def __str__(self):\n",
        "    return f'{self.value} {self.unit}'\n",
        "\n",
        "class Currency:\n",
        "  def __init__(self, amount, currency='USD'):\n",
        "    self.amount = amount\n",
        "    self.currency = currency\n",
        "\n",
        "  def convert_to(self, new_currency):\n",
        "    if self.currency=='USD' and new_currency=='EUR':\n",
        "      return self.amount*0.91\n",
        "    elif self.currency=='EUR' and new_currency=='USD':\n",
        "      return self.amount/0.91\n",
        "    else:\n",
        "      raise ValueError('Invalid Currency Conversion')\n",
        "\n",
        "  def __str__(self):\n",
        "    return f'{self.amount} {self.currency}'\n",
        "\n",
        "\n",
        "length = Length(5, 'km')\n",
        "print(length)\n",
        "print(f'Length in m: {length.convert_to(\"m\")}'+'\\n')\n",
        "\n",
        "money = Currency(50, 'USD')\n",
        "print(money)\n",
        "print(f'50 USD in EUR: {money.convert_to(\"EUR\")}')"
      ]
    }
  ]
}