{
  "nbformat": 4,
  "nbformat_minor": 0,
  "metadata": {
    "colab": {
      "provenance": []
    },
    "kernelspec": {
      "name": "python3",
      "display_name": "Python 3"
    },
    "language_info": {
      "name": "python"
    }
  },
  "cells": [
    {
      "cell_type": "markdown",
      "source": [
        "###***Lab 6 - Simple Regex problems, for e.g., parsing email headers***\n",
        "***Aim:*** *In this exercise, you will learn how to develop a Python code for parsing email headers using regex*"
      ],
      "metadata": {
        "id": "kJqbXOXoqpYz"
      }
    },
    {
      "cell_type": "code",
      "execution_count": null,
      "metadata": {
        "colab": {
          "base_uri": "https://localhost:8080/"
        },
        "id": "ZGJBvXadp-FS",
        "outputId": "18b6d713-7454-42a8-ab5b-4284c48c70a6"
      },
      "outputs": [
        {
          "output_type": "stream",
          "name": "stdout",
          "text": [
            "Sender: From: Alice <alice@example.com>\n",
            "Recipient: To: Bob <bob@example.net>\n",
            "Subject: Subject:  Meeting Tomorrow\n",
            "\n"
          ]
        }
      ],
      "source": [
        "'''\n",
        "Author : Vardhini K\n",
        "Date : 20 Sept 2023\n",
        "Time: 10:26 AM\n",
        "To develop a Python code for parsing email headers using regex\n",
        "'''\n",
        "import re\n",
        "def parse_email_header(header):\n",
        "    sender_pattern = r\"From: .*? <(.*?)>\"\n",
        "    recipient_pattern = r\"To: .*? <(.*?)>\"\n",
        "    subject_pattern = r\"Subject: (.*?)\\n\"\n",
        "\n",
        "    sender_match = re.search(sender_pattern, header)\n",
        "    recipient_match = re.search(recipient_pattern, header)\n",
        "    subject_match = re.search(subject_pattern, header)\n",
        "\n",
        "    sender_email = sender_match.group() if sender_match else None\n",
        "    recipient_email = recipient_match.group() if recipient_match else None\n",
        "    subject = subject_match.group() if subject_match else None\n",
        "    return sender_email, recipient_email, subject\n",
        "\n",
        "with open('email.txt', 'r') as file_handle:\n",
        "  header = file_handle.read()\n",
        "\n",
        "sender, recipient, subject = parse_email_header(header)\n",
        "print(f\"Sender: {sender}\")\n",
        "print(f\"Recipient: {recipient}\")\n",
        "print(f\"Subject: {subject}\")\n"
      ]
    }
  ]
}