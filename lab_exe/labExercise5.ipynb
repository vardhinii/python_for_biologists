{
  "nbformat": 4,
  "nbformat_minor": 0,
  "metadata": {
    "colab": {
      "provenance": []
    },
    "kernelspec": {
      "name": "python3",
      "display_name": "Python 3"
    },
    "language_info": {
      "name": "python"
    }
  },
  "cells": [
    {
      "cell_type": "markdown",
      "source": [
        "## ***Lab 5 - Identifying the ORF region using functions***\n",
        "***Aim: In this exercise, you will learn how to identify the open reading frame region in the given sequence using functions.***"
      ],
      "metadata": {
        "id": "bkkTItrPl0A-"
      }
    },
    {
      "cell_type": "code",
      "execution_count": null,
      "metadata": {
        "colab": {
          "base_uri": "https://localhost:8080/"
        },
        "id": "w9fJCp9qluej",
        "outputId": "70c9da7e-ebba-4b0c-c00a-4f935eb2a088"
      },
      "outputs": [
        {
          "output_type": "stream",
          "name": "stdout",
          "text": [
            "Enter your DNA Sequence: AGCATACGGACATC\n",
            "Forward Frame 1:  AGC ATA CGG ACA TC \n",
            "Forward Frame 2:  GCA TAC GGA CAT C \n",
            "Forward Frame 3:  CAT ACG GAC ATC \n",
            "\n",
            "\n",
            "Reverse Sequence is  CTACAGGCATACGA\n",
            "Reverse complement is   GATGTCCGTATGCT\n",
            "\n",
            "\n",
            "Reverse Frame 1:  CTA CAG GCA TAC GA \n",
            "Reverse Frame 2:  TAC AGG CAT ACG A \n",
            "Reverse Frame 3:  ACA GGC ATA CGA \n"
          ]
        }
      ],
      "source": [
        "'''\n",
        "Author: Vardhini K\n",
        "Date: 13 Sept 2023\n",
        "Time: 9:00 AM\n",
        "Program to identify the open reading frame region in the given sequence using functions.\n",
        "'''\n",
        "#Define function to generate open reading frame\n",
        "def print_frames(dna, frame_name):\n",
        "  n = len(dna)\n",
        "  for i in range(3):\n",
        "    print(f\"{frame_name} Frame {i+1}: \", end = \" \")\n",
        "    for j in range(i, n, 3):\n",
        "      print(dna[j:j+3], end = \" \")\n",
        "    print()\n",
        "\n",
        "#Define function to find complement\n",
        "def complement(dna):\n",
        "  comp = \" \"\n",
        "  for i in dna:\n",
        "    if i == 'A':\n",
        "      comp += 'T'\n",
        "    elif i == 'G':\n",
        "      comp += 'C'\n",
        "    elif i == 'T':\n",
        "      comp += 'A'\n",
        "    elif i == 'C':\n",
        "      comp += 'G'\n",
        "  return comp\n",
        "\n",
        "#Forward Sequence\n",
        "fwd_dna = input(\"Enter your DNA Sequence: \")\n",
        "print_frames(fwd_dna, \"Forward\")\n",
        "print(\"\\n\")\n",
        "\n",
        "#Reverse Sequence\n",
        "rev_dna = fwd_dna[::-1]\n",
        "rev_complement = complement(rev_dna)\n",
        "print(\"Reverse Sequence is \", rev_dna)\n",
        "print(\"Reverse complement is \", rev_complement)\n",
        "print(\"\\n\")\n",
        "print_frames(rev_dna, \"Reverse\")"
      ]
    }
  ]
}