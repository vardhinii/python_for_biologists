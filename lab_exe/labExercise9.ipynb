{
  "nbformat": 4,
  "nbformat_minor": 0,
  "metadata": {
    "colab": {
      "provenance": []
    },
    "kernelspec": {
      "name": "python3",
      "display_name": "Python 3"
    },
    "language_info": {
      "name": "python"
    }
  },
  "cells": [
    {
      "cell_type": "markdown",
      "source": [
        "###***Lab 9 - Creating simple Python objects: Point, Time, etc***\n",
        "***Aim:*** *In this exercise, you will learn how to create point and time objects in Python.*"
      ],
      "metadata": {
        "id": "AAYC-bECwOCb"
      }
    },
    {
      "cell_type": "code",
      "execution_count": null,
      "metadata": {
        "colab": {
          "base_uri": "https://localhost:8080/"
        },
        "id": "brlfVQtzwJqy",
        "outputId": "f373cfd8-5ad9-49db-d530-325e02bda365"
      },
      "outputs": [
        {
          "output_type": "stream",
          "name": "stdout",
          "text": [
            "Point 1: x: 2\n",
            "Point 1: y: 3\n",
            "Point 2: x: 4\n",
            "Point 2: y: 5\n",
            "(2, 3)\n",
            "(4, 5)\n",
            "Distance: 2.83\n",
            "\n",
            "Hours: 10\n",
            "Minutes: 20\n",
            "Time: 10:20\n"
          ]
        }
      ],
      "source": [
        "'''\n",
        "Author: Vardhini K\n",
        "Date: 11 Oct 2023\n",
        "Time: 9:00 AM\n",
        "To create simple python objects: point, time, etc.\n",
        "'''\n",
        "import math\n",
        "class Point:\n",
        "  def __init__(self, x=0, y=0):\n",
        "    self.x = x\n",
        "    self.y = y\n",
        "\n",
        "  def __str__(self):\n",
        "    return f'({self.x}, {self.y})'\n",
        "\n",
        "  def distance(self, other):\n",
        "    return math.sqrt((self.x - other.x)**2 + (self.y - other.y)**2)\n",
        "\n",
        "class Time:\n",
        "  def __init__(self, hour=0, min=0):\n",
        "    self.hour = hour\n",
        "    self.min = min\n",
        "\n",
        "  def __str__(self):\n",
        "    if self.hour <= 23 and self.min <= 60 and self.hour >=0 and self.min >= 0:\n",
        "      return f'{self.hour:02d}:{self.min:02d}'\n",
        "    else:\n",
        "      return 'Enter Valid Time!'\n",
        "\n",
        "#Point\n",
        "p1 = Point(int(input('Point 1: x: ')), int(input('Point 1: y: ')))\n",
        "p2 = Point(int(input('Point 2: x: ')), int(input('Point 2: y: ')))\n",
        "print(p1)\n",
        "print(p2)\n",
        "print(f'Distance: {p1.distance(p2):.2f}\\n')\n",
        "\n",
        "#Time\n",
        "t = Time(int(input('Hours: ')), int(input('Minutes: ')))\n",
        "print(f'Time: {t}')"
      ]
    }
  ]
}