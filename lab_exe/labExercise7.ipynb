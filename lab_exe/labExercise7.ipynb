{
  "nbformat": 4,
  "nbformat_minor": 0,
  "metadata": {
    "colab": {
      "provenance": []
    },
    "kernelspec": {
      "name": "python3",
      "display_name": "Python 3"
    },
    "language_info": {
      "name": "python"
    }
  },
  "cells": [
    {
      "cell_type": "markdown",
      "source": [
        "###***Lab 7 - Regex problems in biology, for e.g., representing and analyzing PROSITE patterns***\n",
        "***Aim:*** *In this exercise, you will learn how to develop a Python code for analyzing the PROSITE pattern of a given protein sequence using regex*"
      ],
      "metadata": {
        "id": "33_G5lFbro7I"
      }
    },
    {
      "cell_type": "code",
      "execution_count": null,
      "metadata": {
        "colab": {
          "base_uri": "https://localhost:8080/"
        },
        "id": "loAiFQZ6rjFj",
        "outputId": "ea798c97-7545-4248-8379-65bf5006bf48"
      },
      "outputs": [
        {
          "output_type": "stream",
          "name": "stdout",
          "text": [
            "1: [DE].[LIVMFYW].[DE]\n",
            "2: [DE].[LIVMFYW].[DE]\n",
            "[DE].[LIVMFYW].[DE]\n",
            "['EMLTD', 'DELKE']\n"
          ]
        }
      ],
      "source": [
        "'''\n",
        "Author : Vardhini K\n",
        "Date: 27 Sept 2023\n",
        "Time: 9:00 AM\n",
        "This code converts a PROSITE pattern to a Regular Expression\n",
        "'''\n",
        "import re\n",
        "#Convert a PROSITE pattern to a regular expression.\n",
        "def prosite_to_regex(pattern):\n",
        "  pattern = pattern.replace('-','').replace('x','.')\n",
        "  print('1:', pattern)\n",
        "\n",
        "  pattern = re.sub(r'\\{([A-Z])\\}', r'[^\\\\1]', pattern)\n",
        "  print('2:', pattern)\n",
        "\n",
        "  return pattern\n",
        "\n",
        "#Search for the PROSITE pattern in the given protein sequence.\n",
        "def find_pattern_in_sequence(pattern,sequence):\n",
        "  regex_pattern = prosite_to_regex(pattern)\n",
        "  print(regex_pattern)\n",
        "  return re.findall(regex_pattern, sequence)\n",
        "\n",
        "input_pattern = '[DE]-x-[LIVMFYW]-x-[DE]'\n",
        "input_sequence = 'ADLAAEAGEMLTDIDELKE'\n",
        "\n",
        "matches = find_pattern_in_sequence(input_pattern, input_sequence)\n",
        "print(matches)\n"
      ]
    }
  ]
}