{
  "nbformat": 4,
  "nbformat_minor": 0,
  "metadata": {
    "colab": {
      "provenance": []
    },
    "kernelspec": {
      "name": "python3",
      "display_name": "Python 3"
    },
    "language_info": {
      "name": "python"
    }
  },
  "cells": [
    {
      "cell_type": "markdown",
      "source": [
        "###***Lab 8 – Gene Expression Analysis***\n",
        "***Aim:*** *In this exercise, you will learn how to develop a Python code of gene expression analysis of a given Excel file.*"
      ],
      "metadata": {
        "id": "at8PSXglsiFp"
      }
    },
    {
      "cell_type": "code",
      "execution_count": null,
      "metadata": {
        "colab": {
          "base_uri": "https://localhost:8080/"
        },
        "id": "xcQiDUIDscnd",
        "outputId": "7795d284-e3fb-4d33-d98b-169a395d043d"
      },
      "outputs": [
        {
          "output_type": "stream",
          "name": "stdout",
          "text": [
            "Gene Expression level Changes\n",
            "\n",
            "                Disease_mean  Control_mean    Change\n",
            "MIR Ids                                             \n",
            "hsa-miR-99b-5p      4.476807      4.237630  0.239178\n",
            "hsa-miR-99a-5p      4.328047      4.276367  0.051681\n",
            "hsa-miR-98-5p       2.675162      2.590613  0.084549\n",
            "hsa-miR-96-5p       2.984488      2.868673  0.115814\n",
            "hsa-miR-9-5p        2.668837      2.528750  0.140087\n",
            "...                      ...           ...       ...\n",
            "hsa-let-7e-5p       3.680840      3.688700 -0.007860\n",
            "hsa-let-7d-5p       4.139600      4.085160  0.054440\n",
            "hsa-let-7c-5p       5.436967      4.926507  0.510461\n",
            "hsa-let-7b-5p       5.398573      5.272163  0.126409\n",
            "hsa-let-7a-5p       3.217872      3.115703  0.102169\n",
            "\n",
            "[528 rows x 3 columns]\n",
            "\n",
            "miRNAs with Significant Changes\n",
            "\n",
            "                Disease_mean  Control_mean    Change\n",
            "MIR Ids                                             \n",
            "hsa-miR-657         5.943827      5.361023  0.582804\n",
            "hsa-miR-650         8.582638      7.661607  0.921031\n",
            "hsa-miR-635         5.203900      4.703493  0.500407\n",
            "hsa-miR-614         8.817155     11.177693 -2.360538\n",
            "hsa-miR-494-3p      7.411013      6.833383  0.577629\n",
            "hsa-miR-373-3p      5.212788      4.377233  0.835554\n",
            "hsa-miR-27b-3p      5.616043      6.582953 -0.966911\n",
            "hsa-miR-223-3p      6.330702      5.603970  0.726732\n",
            "hsa-miR-218-5p      3.304670      4.126003 -0.821333\n",
            "hsa-miR-21-5p       3.479515      2.868023  0.611492\n",
            "hsa-let-7c-5p       5.436967      4.926507  0.510461\n"
          ]
        }
      ],
      "source": [
        "'''\n",
        "Author : Vardhini K\n",
        "Date : 04 Oct 2023\n",
        "Time: 9:00 AM\n",
        "To develop a Python code of gene expression analysis of a given Excel file\n",
        "'''\n",
        "#Import the required library to handle the excel file\n",
        "import pandas as pd\n",
        "\n",
        "#Load the excel file into pandas DataFrame. Assuming 1st column is miRNA names\n",
        "df = pd.read_excel('GEO_dataset_lab11.xls', index_col=0)\n",
        "\n",
        "#Calculate mean conditions for disease and control conditions\n",
        "df[\"Disease_mean\"] = df[[\"DIS1\", \"DIS2\", \"DIS3_2\", \"DIS4\"]].mean(axis=1)\n",
        "df[\"Disease_mean\"]\n",
        "df[\"Control_mean\"] = df[[\"control1\", \"control2\", \"control3_2\"]].mean(axis=1)\n",
        "\n",
        "#Calculate the change in expression level\n",
        "df[\"Change\"] = df[\"Disease_mean\"] - df[\"Control_mean\"]\n",
        "\n",
        "#Print the changes\n",
        "print(\"Gene Expression level Changes\\n\")\n",
        "print(df[[\"Disease_mean\", \"Control_mean\", \"Change\"]])\n",
        "\n",
        "# If you want to filter miRNAs based on a specific change threshold\n",
        "threshold = 0.5\n",
        "significant_changes = df[df[\"Change\"].abs() > threshold]\n",
        "print(\"\\nmiRNAs with Significant Changes\\n\")\n",
        "print(significant_changes[[\"Disease_mean\", \"Control_mean\", \"Change\"]])\n",
        "\n",
        "#Export as a excel file\n",
        "df.to_excel(\"GE_results.xlsx\")\n",
        "significant_changes.to_excel(\"significant_results.xlsx\")"
      ]
    }
  ]
}