{
  "nbformat": 4,
  "nbformat_minor": 0,
  "metadata": {
    "colab": {
      "provenance": []
    },
    "kernelspec": {
      "name": "python3",
      "display_name": "Python 3"
    },
    "language_info": {
      "name": "python"
    }
  },
  "cells": [
    {
      "cell_type": "markdown",
      "source": [
        "###***Lab 11 - Creating a user-defined exception; for e.g., NotDNA exception Class***\n",
        "***Aim:*** *In this exercise, you will learn how to create a user-defined exception in Python*\n"
      ],
      "metadata": {
        "id": "bVVvjSSD54aM"
      }
    },
    {
      "cell_type": "code",
      "execution_count": null,
      "metadata": {
        "colab": {
          "base_uri": "https://localhost:8080/"
        },
        "id": "FohAPMow5zOd",
        "outputId": "7a50bf80-ae02-4e35-931a-9813b8acc418"
      },
      "outputs": [
        {
          "output_type": "stream",
          "name": "stdout",
          "text": [
            "Enter a DNA Sequence: ahagc\n",
            "In the entered Sequence, H is not a DNA base\n"
          ]
        }
      ],
      "source": [
        "'''\n",
        "Author: Vardhini K\n",
        "Date: 01 Nov 2023\n",
        "Time: 9:00 AM\n",
        "This code creates a user-defined exception in Python e.g., NotDNA exception\n",
        "'''\n",
        "class NotDNAException(Exception):\n",
        "  pass\n",
        "\n",
        "def is_ValidDNA(sequence):\n",
        "  for base in sequence:\n",
        "    if base not in 'ATGC':\n",
        "      raise NotDNAException(f'In the entered Sequence, {base} is not a DNA base')\n",
        "\n",
        "try:\n",
        "  dna_sequence = input('Enter a DNA Sequence: ').upper()\n",
        "  is_ValidDNA(dna_sequence)\n",
        "  print(f'The entered DNA Sequence is {dna_sequence}')\n",
        "\n",
        "except NotDNAException as e:\n",
        "  print(e)"
      ]
    }
  ]
}